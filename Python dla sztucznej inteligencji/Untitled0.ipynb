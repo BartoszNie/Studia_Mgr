{
  "nbformat": 4,
  "nbformat_minor": 0,
  "metadata": {
    "colab": {
      "provenance": []
    },
    "kernelspec": {
      "name": "python3",
      "display_name": "Python 3"
    },
    "language_info": {
      "name": "python"
    }
  },
  "cells": [
    {
      "cell_type": "code",
      "execution_count": 2,
      "metadata": {
        "colab": {
          "base_uri": "https://localhost:8080/"
        },
        "id": "yWueWaV38luT",
        "outputId": "3043ad64-dc39-4560-de39-e3a08d3a3b1b"
      },
      "outputs": [
        {
          "output_type": "stream",
          "name": "stdout",
          "text": [
            "Kod programu\n"
          ]
        }
      ],
      "source": [
        "print(\"Kod programu\")"
      ]
    },
    {
      "cell_type": "markdown",
      "source": [
        "Przykładowy tekst - Plik powyżej jest kodem"
      ],
      "metadata": {
        "id": "TIfly7NC_Qe1"
      }
    },
    {
      "cell_type": "code",
      "source": [
        "a = 5\n",
        "print(a)"
      ],
      "metadata": {
        "colab": {
          "base_uri": "https://localhost:8080/"
        },
        "id": "9qYxBJky_3er",
        "outputId": "17e52976-682a-4939-9295-75e02263aa37"
      },
      "execution_count": 3,
      "outputs": [
        {
          "output_type": "stream",
          "name": "stdout",
          "text": [
            "5\n"
          ]
        }
      ]
    },
    {
      "cell_type": "markdown",
      "source": [
        "Tekst, który został zaprezentowany to liczba 5"
      ],
      "metadata": {
        "id": "T_YRJMhv_6yC"
      }
    }
  ]
}